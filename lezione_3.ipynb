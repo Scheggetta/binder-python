{
 "cells": [
  {
   "cell_type": "markdown",
   "id": "3f928a49",
   "metadata": {},
   "source": [
    "# Lezione 3 - if, while, for, tuple\n",
    "Prima di introdurre le strutture di controllo, vogliamo esplorare i tipi Booleani.\n",
    "True e False servono a identificare verità e falsità."
   ]
  },
  {
   "cell_type": "code",
   "execution_count": 2,
   "id": "62366b13",
   "metadata": {},
   "outputs": [
    {
     "name": "stdout",
     "output_type": "stream",
     "text": [
      "l'utente è attivo\n",
      "l'utente non è premium\n"
     ]
    }
   ],
   "source": [
    "attivo = True\n",
    "premium = False\n",
    "\n",
    "# il codice è eseguito solo se attivo è vero\n",
    "if attivo:\n",
    "    print(\"l'utente è attivo\")\n",
    "\n",
    "# esegui if se l'utente è premium, false altrimenti\n",
    "if premium:\n",
    "    print(\"l'utente è premium\")\n",
    "else:\n",
    "    print(\"l'utente non è premium\")\n"
   ]
  },
  {
   "cell_type": "markdown",
   "id": "6062bcb2",
   "metadata": {},
   "source": [
    "Anche liste e stringhe possono essere vere o false. In genere, sono false solo quando sono vuote."
   ]
  },
  {
   "cell_type": "code",
   "execution_count": 1,
   "id": "a871daf8",
   "metadata": {
    "scrolled": true
   },
   "outputs": [
    {
     "name": "stdout",
     "output_type": "stream",
     "text": [
      "<class 'bool'>\n",
      "si\n",
      "no\n"
     ]
    }
   ],
   "source": [
    "x = 10\n",
    "print(type(x >= 18))\n",
    "\n",
    "if x >= 18:\n",
    "    print('promosso')\n",
    "    \n",
    "l1 = [1, 2, 3]\n",
    "l2 = []\n",
    "l3 = [1, 2, 4]\n",
    "l4 = l3\n",
    "l5 = None\n",
    "\n",
    "if l1 < l3:\n",
    "    print('si')\n",
    "else:\n",
    "    print('no')\n",
    "          \n",
    "# non c'è alcuna conversione\n",
    "if 'True' == True:\n",
    "    print('si')\n",
    "else:\n",
    "    print('no')"
   ]
  },
  {
   "cell_type": "markdown",
   "id": "d3afbf45",
   "metadata": {},
   "source": [
    "Possiamo usare elif per testare più istruzioni, una in fila all'altra. Se la condizione dell'if è falsa, testo quella dell'elif. Se anche lei è falsa, casco nell'else."
   ]
  },
  {
   "cell_type": "code",
   "execution_count": 3,
   "id": "64ea299d",
   "metadata": {},
   "outputs": [
    {
     "name": "stdout",
     "output_type": "stream",
     "text": [
      "Benvenuto\n"
     ]
    }
   ],
   "source": [
    "voto = 30\n",
    "\n",
    "if l1 is not None and (voto > 10 + 8):\n",
    "    print('Benvenuto')\n",
    "elif attivo and not premium:\n",
    "    print('Ciao')\n",
    "else:\n",
    "    print('Non ti conosco')"
   ]
  },
  {
   "cell_type": "code",
   "execution_count": null,
   "id": "0564e13d",
   "metadata": {},
   "outputs": [],
   "source": [
    "x = -10\n",
    "# .....\n",
    "\n",
    "abs_x = x\n",
    "if x < 0:\n",
    "    abs_x = -x\n",
    "print(x, abs_x)\n",
    "\n",
    "# versione inline/compatta\n",
    "abs_x = x if x > 0 else -x\n",
    "\n",
    "print(x, abs_x)"
   ]
  },
  {
   "cell_type": "markdown",
   "id": "8f96a7f4",
   "metadata": {},
   "source": [
    "## Cicli\n",
    "gli if sono potenti, ma vogliamo anche la capacità di ripetere più volte le stesse istruzioni.\n",
    "Partiamo esplorando il while."
   ]
  },
  {
   "cell_type": "code",
   "execution_count": 5,
   "id": "7776c9f9",
   "metadata": {},
   "outputs": [
    {
     "name": "stdout",
     "output_type": "stream",
     "text": [
      "0\n",
      "1\n",
      "2\n",
      "3\n",
      "4\n",
      "5\n",
      "6\n",
      "7\n",
      "8\n",
      "9\n"
     ]
    }
   ],
   "source": [
    "i = 0\n",
    "while i < 10:\n",
    "    print(i)\n",
    "    i = i + 1"
   ]
  },
  {
   "cell_type": "code",
   "execution_count": 6,
   "id": "a8560534",
   "metadata": {
    "scrolled": false
   },
   "outputs": [
    {
     "name": "stdout",
     "output_type": "stream",
     "text": [
      "trovato!\n",
      "167\n"
     ]
    }
   ],
   "source": [
    "l = [ 1, 2, 6, 10, 100 ,-10, 42, 6]\n",
    "\n",
    "i = 0\n",
    "\n",
    "while i < len(l):\n",
    "    if l[i] == 6:\n",
    "        print('trovato!')\n",
    "        break\n",
    "    i += 1 # i = i + 1\n",
    "\n",
    "# <- break salta qui\n",
    "i = 0\n",
    "somma = 0\n",
    "while  i < len(l):\n",
    "    if l[i] <= 0:\n",
    "        i += 1\n",
    "        continue\n",
    "    # ... conti conti ...\n",
    "    somma += l[i]\n",
    "    i += 1\n",
    "print(somma)\n",
    "\n"
   ]
  },
  {
   "cell_type": "markdown",
   "id": "94a476b1",
   "metadata": {},
   "source": [
    "Posso semplificarmi la vita con break (esci dal ciclo) e continue (salta al prossimo giro del ciclo)"
   ]
  },
  {
   "cell_type": "code",
   "execution_count": 8,
   "id": "84751396",
   "metadata": {
    "scrolled": true
   },
   "outputs": [
    {
     "name": "stdout",
     "output_type": "stream",
     "text": [
      "il 7 non c'è\n"
     ]
    }
   ],
   "source": [
    "l = [ 1, 2, 6, 10, 100 ,-10, 42, 6]\n",
    "\n",
    "i = 0\n",
    "\n",
    "while i < len(l):\n",
    "    if l[i] == 7:\n",
    "        print('trovato!')\n",
    "        break\n",
    "    i += 1 # i = i + 1\n",
    "else:\n",
    "    print(\"il 7 non c'è\")"
   ]
  },
  {
   "cell_type": "code",
   "execution_count": 8,
   "id": "d477cba8",
   "metadata": {
    "scrolled": true
   },
   "outputs": [
    {
     "name": "stdout",
     "output_type": "stream",
     "text": [
      "trovato\n"
     ]
    }
   ],
   "source": [
    "l1 = [ 1, 4, 6, 10, 8, 10, 6, 10]\n",
    "l2 = [ 3, 4, 5, 9, 2, 10, 10]\n",
    "\n",
    "i = 0\n",
    "\n",
    "while i < len(l1): \n",
    "    j = 0\n",
    "    while j < len(l2):\n",
    "        if l1[i] * l2[j] == 100:\n",
    "            print('trovato')\n",
    "            break\n",
    "        j += 1\n",
    "    else:\n",
    "        i += 1\n",
    "        continue\n",
    "    break"
   ]
  },
  {
   "cell_type": "markdown",
   "id": "69477d49",
   "metadata": {},
   "source": [
    "Il ciclo for è più \"rigido\" del while, più strutturato. Questo ci semplifica la vita (anche se non è facile fare con il for tutto quello che faccio con il while)"
   ]
  },
  {
   "cell_type": "code",
   "execution_count": 9,
   "id": "3f8f962a",
   "metadata": {
    "scrolled": true
   },
   "outputs": [
    {
     "name": "stdout",
     "output_type": "stream",
     "text": [
      "1\n",
      "4\n",
      "6\n",
      "10\n",
      "8\n",
      "10\n",
      "6\n",
      "10\n"
     ]
    }
   ],
   "source": [
    "numeri_lotto = l1\n",
    "for numero in numeri_lotto:\n",
    "    print(numero)\n"
   ]
  },
  {
   "cell_type": "code",
   "execution_count": 19,
   "id": "c8fef359",
   "metadata": {},
   "outputs": [
    {
     "name": "stdout",
     "output_type": "stream",
     "text": [
      "trovato!\n",
      "167\n",
      "trovato\n",
      "1\n",
      "2\n",
      "3\n",
      "stella\n"
     ]
    }
   ],
   "source": [
    "l = [ 1, 2, 6, 10, 100 ,-10, 42, 6]\n",
    "\n",
    "for i in l:\n",
    "    if i == 6:\n",
    "        print('trovato!')\n",
    "        break\n",
    "\n",
    "# <- break salta qui\n",
    "somma = 0\n",
    "for i in l:\n",
    "    if i <= 0:\n",
    "        continue\n",
    "    # ... conti conti ...\n",
    "    somma += i\n",
    "print(somma)\n",
    "\n",
    "l1 = [ 1, 4, 6, 10, 8, 10, 6, 10]\n",
    "l2 = [ 3, 4, 5, 9, 2, 10, 10]\n",
    "\n",
    "for i in l1: \n",
    "    for j in l2:\n",
    "        if i * j == 100:\n",
    "            print('trovato')\n",
    "            break\n",
    "    else:\n",
    "        continue\n",
    "    break\n",
    "\n",
    "for i in [1, 2, 3, 'stella']:\n",
    "    print(i)"
   ]
  },
  {
   "cell_type": "markdown",
   "id": "b5123ade",
   "metadata": {},
   "source": [
    "Vediamo qualche operatore speciale che lavora con il for: range, enumerate, zip"
   ]
  },
  {
   "cell_type": "code",
   "execution_count": 20,
   "id": "12bfb9af",
   "metadata": {},
   "outputs": [
    {
     "name": "stdout",
     "output_type": "stream",
     "text": [
      "0 1\n",
      "1 2\n",
      "2 6\n",
      "3 10\n",
      "4 100\n",
      "5 -10\n",
      "6 42\n",
      "7 6\n",
      "2 6\n",
      "3 10\n",
      "4 100\n",
      "5 -10\n",
      "6 42\n",
      "7 6\n",
      "0 1\n",
      "2 6\n",
      "4 100\n",
      "6 42\n"
     ]
    }
   ],
   "source": [
    "# stampa da 0 (incluso) a len(l) (escluso)\n",
    "for i in range(len(l)):\n",
    "    print(i, l[i])\n",
    "\n",
    "# stampa da 2 (salta 0 e 1) fino a len(l)\n",
    "for i in range(2, len(l)):\n",
    "    print(i, l[i])\n",
    "\n",
    "#stampa da 0 a len(l), ma solo nelle posizioni pari (il passo è 2)\n",
    "for i in range(0, len(l), 2):\n",
    "    print(i, l[i])"
   ]
  },
  {
   "cell_type": "markdown",
   "id": "e7e0f275",
   "metadata": {},
   "source": [
    "Enumerate ci restituisce delle coppie (posizione, valore)"
   ]
  },
  {
   "cell_type": "code",
   "execution_count": 23,
   "id": "220d4e57",
   "metadata": {
    "scrolled": true
   },
   "outputs": [
    {
     "name": "stdout",
     "output_type": "stream",
     "text": [
      "0 1\n",
      "1 2\n",
      "2 6\n",
      "3 10\n",
      "4 100\n",
      "5 -10\n",
      "6 42\n",
      "7 6\n"
     ]
    }
   ],
   "source": [
    "for pos, val in enumerate(l):\n",
    "    print(pos, val)"
   ]
  },
  {
   "cell_type": "code",
   "execution_count": 28,
   "id": "c7525d3a",
   "metadata": {},
   "outputs": [
    {
     "name": "stdout",
     "output_type": "stream",
     "text": [
      "6 1 3\n",
      "6 4 4\n",
      "6 6 5\n",
      "6 10 9\n",
      "6 8 2\n",
      "6 10 10\n",
      "6 6 10\n",
      "----------\n",
      "0 1 3\n",
      "1 4 4\n",
      "2 6 5\n",
      "3 10 9\n",
      "4 8 2\n",
      "5 10 10\n",
      "6 6 10\n"
     ]
    }
   ],
   "source": [
    "l1 = [ 1, 4, 6, 10, 8, 10, 6 ]\n",
    "l2 = [ 3, 4, 5,  9, 2, 10, 10]\n",
    "\n",
    "# zip \"incolla\" due liste e mi ritorna gli elementi a due a due\n",
    "# e.g., il primo di l1 e l2, poi il secondo di l1 e l2, ecc....\n",
    "for x, y in zip(l1, l2):\n",
    "    print(n, x, y)\n",
    "\n",
    "print(10*'-')\n",
    "\n",
    "# posso combinare questi elementi\n",
    "for n, (x, y) in enumerate(zip(l1, l2)):\n",
    "    print(n, x, y)"
   ]
  },
  {
   "cell_type": "markdown",
   "id": "333e1a3f",
   "metadata": {},
   "source": [
    "## Tuple\n",
    "python unisce i dati usando tuple, sono delle liste immutabili."
   ]
  },
  {
   "cell_type": "code",
   "execution_count": 29,
   "id": "62ce07d2",
   "metadata": {},
   "outputs": [
    {
     "name": "stdout",
     "output_type": "stream",
     "text": [
      "(0, 1)\n",
      "<class 'tuple'>\n",
      "0 1\n",
      "(1, 2)\n",
      "<class 'tuple'>\n",
      "1 2\n",
      "(2, 6)\n",
      "<class 'tuple'>\n",
      "2 6\n",
      "(3, 10)\n",
      "<class 'tuple'>\n",
      "3 10\n",
      "(4, 100)\n",
      "<class 'tuple'>\n",
      "4 100\n",
      "(5, -10)\n",
      "<class 'tuple'>\n",
      "5 -10\n",
      "(6, 42)\n",
      "<class 'tuple'>\n",
      "6 42\n",
      "(7, 6)\n",
      "<class 'tuple'>\n",
      "7 6\n"
     ]
    }
   ],
   "source": [
    "for t in enumerate(l):\n",
    "    print(t)\n",
    "    print(type(t))\n",
    "    print(t[0], t[1])"
   ]
  },
  {
   "cell_type": "code",
   "execution_count": 15,
   "id": "3c4cb666",
   "metadata": {
    "scrolled": true
   },
   "outputs": [
    {
     "name": "stdout",
     "output_type": "stream",
     "text": [
      "(1, 2, 3, 'ciao', [1, 2, 3])\n"
     ]
    }
   ],
   "source": [
    "t = (1, 2, 3, 'ciao', [1, 2, 3])\n",
    "print(t)"
   ]
  },
  {
   "cell_type": "code",
   "execution_count": 31,
   "id": "02cd3240",
   "metadata": {},
   "outputs": [
    {
     "name": "stdout",
     "output_type": "stream",
     "text": [
      "<class 'int'> <class 'tuple'>\n",
      "5 10\n",
      "10 5\n",
      "5 10\n",
      "10 0.5\n"
     ]
    }
   ],
   "source": [
    "l = [1]\n",
    "n = (1)\n",
    "t = (1,)\n",
    "print(type(n), type(t))\n",
    "\n",
    "t = (1, 2, 3, 'ciao', [1, 2, 3])\n",
    "n1, n2, n3, parola, lista = t\n",
    "\n",
    "\n",
    "a = 5\n",
    "b = 10\n",
    "print(a, b)\n",
    "tmp = a\n",
    "a = b\n",
    "b = tmp\n",
    "print(a, b)\n",
    "a, b = b, a\n",
    "print(a, b)\n",
    "\n",
    "def calcola_media(l):\n",
    "    # ....\n",
    "    return 10, 0.5\n",
    "media, errore = calcola_media(l)\n",
    "print(media, errore)"
   ]
  }
 ],
 "metadata": {
  "kernelspec": {
   "display_name": "Python 3",
   "language": "python",
   "name": "python3"
  },
  "language_info": {
   "codemirror_mode": {
    "name": "ipython",
    "version": 3
   },
   "file_extension": ".py",
   "mimetype": "text/x-python",
   "name": "python",
   "nbconvert_exporter": "python",
   "pygments_lexer": "ipython3",
   "version": "3.8.10"
  }
 },
 "nbformat": 4,
 "nbformat_minor": 5
}