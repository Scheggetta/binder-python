{
 "cells": [
  {
   "cell_type": "markdown",
   "id": "8b8ef8a7",
   "metadata": {},
   "source": [
    "# Esercizio 1\n",
    "Un metodo numerico che si può usare per calcolare, in modo approssimato, la radice quadrata di un numero è il [metodo di newton](https://en.wikipedia.org/wiki/Newton%27s_method).\n",
    "Questo metodo parte da una prima stima della radice e migliora iterativamente il valore, avvicinandosi al risultato.\n",
    "Se vogliamo calcolare la radice quadrata di $x$, partendo dalla stima $s$, possiamo ottenere una stima migliore $s'$ usando la formula\n",
    "\\begin{equation}\n",
    "s' = \\frac{s + \\frac{x}{s}}{2}\n",
    "\\end{equation}\n",
    "Per esempio, se vogliamo calcolare la radice di 4 partendo dalla stima 4, otteniamo 2.5. Se applichiamo lo stesso metodo (usando 2.5 al posto di 4 come stima) otteniamo 2.05, un valore sempre più vicino al valore vero (2).\n",
    "\n",
    "Scrivete la funzione `migliora_stima(val, stima)`, che implementa la formula del metodo di newton per migliorare (di un passo) la stima della radice del numero val. Esso deve ritornare il valore migliorato della stima.\n",
    "Implementate poi la funzione `newton(val, stima)`, che prende un valore e una stima, e continua ad applicare `migliora_stima` finché la differenza tra due passi di miglioramento è < 0.0001. La funzione deve infine ritornare questa stima della radice.\n",
    "\n",
    "Potete confrontare la vostra tecnica con la funzione matematica `math.sqrt(val)`."
   ]
  },
  {
   "cell_type": "code",
   "execution_count": 4,
   "id": "4c39a35d",
   "metadata": {},
   "outputs": [
    {
     "name": "stdout",
     "output_type": "stream",
     "text": [
      "2.000000000021489 40.025 4.123105625623046\n",
      "2.0 4.123105625617661\n"
     ]
    }
   ],
   "source": [
    "import math\n",
    "\n",
    "def migliora_stima(val, stima):\n",
    "    new_estimate = (stima + val / stima) / 2\n",
    "    return new_estimate\n",
    "\n",
    "def newton(val, stima):\n",
    "    delta = float('+inf')\n",
    "    while delta >= 0.0001:\n",
    "        new_estimate = migliora_stima(val, stima)\n",
    "        delta = stima - new_estimate\n",
    "        stima = new_estimate\n",
    "    return stima\n",
    "\n",
    "a = newton(4, 10)\n",
    "b = newton(4, 0.05)\n",
    "c = newton(17, 10)\n",
    "\n",
    "print(a, b, c)\n",
    "print(math.sqrt(4), math.sqrt(17))"
   ]
  },
  {
   "cell_type": "markdown",
   "id": "7f4cbcfd",
   "metadata": {},
   "source": [
    "# Esercizio 2\n",
    "Vogliamo indagare la validità dell'[ultimo teorema di fermat](https://en.wikipedia.org/wiki/Fermat%27s_Last_Theorem).\n",
    "Esso afferma che, dati tre numeri interi positivi $a, b, $ e $c$ e un numero intero $n$ maggiore o uguale a 2, l'espressione\n",
    "\\begin{equation}\n",
    "a^n + b^n = c^n\n",
    "\\end{equation}\n",
    "può essere vera se e solo se n è uguale a 2.\n",
    "Scrivete una funzione `verifica_fermat(a, b, c, n)` che verifica la validità del teorema in una data istanza.\n",
    "Questa funzione deve ritornare True se il teorema vale, o False altrimenti.\n",
    "\n",
    "Scrivete il metodo `testa_teorema(max_num, max_pot)` che serve a testare il teorema più volte. Esso deve usare `verifica_fermat` per ogni combinazione di $a, b, c$ con i numeri compre tra 1 e `max_num`, e li deve testare provando tutte le potenze comprese tra 2 e `max_pot`. Notate che `max_num` e `max_pot` devono essere inclusi nella ricerca.\n",
    "Per esempio, `testa_teorema(3, 3)` proverà a mettere $1, 2, 3$ in $a, b, c$ (in tutte le combinazioni possibili (1, 1, 1), (1, 1, 2), ...); proverà questo combinazioni usando $n = 2$ e $n = 3$.\n",
    "Se `testa_teorema` trova un caso in cui `verifica_fermat` è falso, esso deve stampare \"ho trovato un controesempio\" e fermarsi.\n",
    "Se invece alla fine di tutto non ha trovato nessun controesempio, esso deve stampare \"non ho trovato controesempi\"."
   ]
  },
  {
   "cell_type": "code",
   "execution_count": 5,
   "id": "89e57af7",
   "metadata": {},
   "outputs": [
    {
     "name": "stdout",
     "output_type": "stream",
     "text": [
      "non ho trovato un controesempio\n",
      "non ho trovato un controesempio\n"
     ]
    }
   ],
   "source": [
    "import math\n",
    "import sys\n",
    "\n",
    "def get_all_combinations(n):\n",
    "    combinations = []\n",
    "    for a in range(1, n + 1):\n",
    "        for b in range(1, n + 1):\n",
    "            for c in range(1, n + 1):\n",
    "                combinations.append((a, b, c))\n",
    "    return combinations\n",
    "\n",
    "def verifica_fermat(a, b, c, n):\n",
    "    first = math.pow(a, n) + math.pow(b, n)\n",
    "    second = math.pow(c, n)\n",
    "    equality = first == second\n",
    "    return not(equality and n > 2)\n",
    "\n",
    "def testa_teorema(max_num, max_pot):\n",
    "    if max_num < 1:\n",
    "        print('max_num = %d is not a valid number.' % max_num)\n",
    "        sys.exit(1)\n",
    "    if max_pot < 2:\n",
    "        print('max_pot = %d is not a valid number.' % max_pot)\n",
    "        sys.exit(1)\n",
    "\n",
    "    for a, b, c in get_all_combinations(max_num):\n",
    "        for n in range(2, max_pot + 1):\n",
    "            if not verifica_fermat(a, b, c, n):\n",
    "                print('ho trovato un controesempio: ', a, b, c)\n",
    "                sys.exit(0)\n",
    "    print('non ho trovato un controesempio')\n",
    "\n",
    "testa_teorema(100, 3)\n",
    "testa_teorema(20, 5)"
   ]
  },
  {
   "cell_type": "markdown",
   "id": "332cce31",
   "metadata": {
    "pycharm": {
     "name": "#%% md\n"
    }
   },
   "source": [
    "# Esercizio 3\n",
    "Una tripletta di numeri che soddisfa il teorema quando $n = 2$ è nota come terna pitagoriga. Per esempio, (3, 4, 5) è una terna pittagorica corretta, perché $3^2 + 4^2 = 9 + 16 = 25 = 5^2$.\n",
    "Scrivere una funzione `terna_corretta(a, b, c)` che ritorni `True` se $a, b, c$ sono una terna pitagorica. Notate che l'ordine è importante, confronto sempre la somma delle potenze dei primi due elementi con la potenza del terzo elemento.\n",
    "\n",
    "Implementate poi la funzione `colleziona_terne(max_n)`. Questa funzione ritorna una lista di tuple che sono terne pitagoriche. Essa testa tutte le terne $(a, b, c)$ instanziate con tutte le possibili combinazioni di valori tra 1 e `max_n` (incluso). Usate la funzione `terna_corretta(a, b, c)` per identificare quali combinazioni vanno aggiunte alla collezione.\n",
    "Per esempio, `colleziona_terne(10)` ritorna la lista `[(3, 4, 5), (4, 3, 5), (6, 8, 10), (8, 6, 10)]`"
   ]
  },
  {
   "cell_type": "code",
   "execution_count": 6,
   "id": "974d5b6f",
   "metadata": {},
   "outputs": [
    {
     "name": "stdout",
     "output_type": "stream",
     "text": [
      "[(3, 4, 5), (4, 3, 5), (6, 8, 10), (8, 6, 10)]\n"
     ]
    }
   ],
   "source": [
    "import math\n",
    "\n",
    "def terna_corretta(a, b, c):\n",
    "    return a**2 + b**2 == c**2\n",
    "\n",
    "def all_combinations(n):\n",
    "    combinations = []\n",
    "    for a in range(1, n + 1):\n",
    "        for b in range(1, n + 1):\n",
    "            for c in range(1, n + 1):\n",
    "                combinations.append((a, b, c))\n",
    "    return combinations\n",
    "\n",
    "def colleziona_terne(max_n):\n",
    "    risultato = []\n",
    "    for a, b, c in all_combinations(max_n):\n",
    "        if terna_corretta(a, b, c):\n",
    "            risultato.append((a, b, c))\n",
    "    return risultato\n",
    "\n",
    "print(colleziona_terne(10))"
   ]
  },
  {
   "cell_type": "markdown",
   "id": "ea02270e",
   "metadata": {},
   "source": [
    "# Esercizio 4\n",
    "Implementate la funzione `nested_sum(l)`. Essa riceve in input una lista di liste di numeri interi $l$ e deve calcolare la somma di tutti i numeri presenti nelle liste contenute in `l`. Per esempio, `nested_sum(([[1,2,3], [5], [-1 , -1, -1]])` mi deve ritornare il valore `8`.\n",
    "\n",
    "Implementate la funzione `nested_compact(l)`. Essa riceve in input una lista di liste di numeri interi $l$ e deve costruire una nuova lista che contiene i numeri di $l$, ma senza ripetizioni. L'ordine dei numeri deve essere preservato, se un numero appare più volte, solo la primo occorrenza deve essere inserita nella lista finale.\n",
    "Per esempio, `nested_compact([[1, 2, 3], [-1, 3], [-2, -2]])` deve ritornare la lista `[1, 2, 3, -1, -2]`"
   ]
  },
  {
   "cell_type": "code",
   "execution_count": 7,
   "id": "2eacb19e",
   "metadata": {},
   "outputs": [
    {
     "name": "stdout",
     "output_type": "stream",
     "text": [
      "10\n",
      "[1, 2, 3, -1, -2]\n"
     ]
    }
   ],
   "source": [
    "def nested_sum(l):\n",
    "    compact_list = nested_compact(l)\n",
    "    return sum(compact_list)\n",
    "\n",
    "def nested_compact(l):\n",
    "    compact_list = []\n",
    "    for lista in l:\n",
    "        for number in lista:\n",
    "            if number not in compact_list:\n",
    "                compact_list.append(number)\n",
    "    return compact_list\n",
    "\n",
    "print(nested_sum(([[1,2,3], [5], [-1 , -1, -1]])))\n",
    "print(nested_compact([[1, 2, 3], [-1, 3], [-2, -2]]))"
   ]
  },
  {
   "cell_type": "markdown",
   "id": "f94bf92e",
   "metadata": {},
   "source": [
    "# Esercizio 5\n",
    "Scrivere una funzione `esclamazioni(l)` che riceve una lista di stringhe e ritorna una nuova lista che segue i seguenti parametri:\n",
    "1. se una stringa non contiene il carattere `a` deve essere ignorata\n",
    "2. le stringhe che contengono il carattere `a` devono essere modificate, aggiungendo la stringa \"a \" prima della stringa originale, e la stringa \"!!!\" alla fine.\n",
    "3. infine, la lista finale deve essere ordinata in ordine alfabetico\n",
    "\n",
    "Per esempio, `esclamazioni([\"zebra\", ,\"lion\", \"gorilla\", \"tiger\"])` deve ritornare la lista `[\"a gorilla!!!\", \"a zebra!!!\"]`"
   ]
  },
  {
   "cell_type": "code",
   "execution_count": 8,
   "id": "e2125933",
   "metadata": {
    "pycharm": {
     "name": "#%%\n"
    }
   },
   "outputs": [
    {
     "name": "stdout",
     "output_type": "stream",
     "text": [
      "['a gorilla!!!', 'a zebra!!!', 'lion', 'tiger']\n"
     ]
    }
   ],
   "source": [
    "def esclamazioni(l):\n",
    "    for idx, s in enumerate(l):\n",
    "        if 'a' in s:\n",
    "           l[idx] = 'a ' + s + '!!!'\n",
    "    l.sort()\n",
    "    return l\n",
    "\n",
    "print(esclamazioni(['zebra', 'lion', 'gorilla', 'tiger']))"
   ]
  }
 ],
 "metadata": {
  "kernelspec": {
   "display_name": "Python 3",
   "language": "python",
   "name": "python3"
  },
  "language_info": {
   "codemirror_mode": {
    "name": "ipython",
    "version": 3
   },
   "file_extension": ".py",
   "mimetype": "text/x-python",
   "name": "python",
   "nbconvert_exporter": "python",
   "pygments_lexer": "ipython3",
   "version": "3.8.10"
  }
 },
 "nbformat": 4,
 "nbformat_minor": 5
}